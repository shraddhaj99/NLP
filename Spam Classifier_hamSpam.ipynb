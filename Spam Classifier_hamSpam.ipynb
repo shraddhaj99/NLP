{
 "cells": [
  {
   "cell_type": "code",
   "execution_count": 12,
   "id": "7ef9e2d7",
   "metadata": {},
   "outputs": [],
   "source": [
    "import pandas as pd"
   ]
  },
  {
   "cell_type": "code",
   "execution_count": 13,
   "id": "1717d0de",
   "metadata": {},
   "outputs": [],
   "source": [
    "msgs = pd.read_csv(\"SMSSpamCollection\", sep = '\\t', names = ['label', 'message'])"
   ]
  },
  {
   "cell_type": "code",
   "execution_count": 14,
   "id": "ca8b5ee8",
   "metadata": {},
   "outputs": [
    {
     "data": {
      "text/html": [
       "<div>\n",
       "<style scoped>\n",
       "    .dataframe tbody tr th:only-of-type {\n",
       "        vertical-align: middle;\n",
       "    }\n",
       "\n",
       "    .dataframe tbody tr th {\n",
       "        vertical-align: top;\n",
       "    }\n",
       "\n",
       "    .dataframe thead th {\n",
       "        text-align: right;\n",
       "    }\n",
       "</style>\n",
       "<table border=\"1\" class=\"dataframe\">\n",
       "  <thead>\n",
       "    <tr style=\"text-align: right;\">\n",
       "      <th></th>\n",
       "      <th>label</th>\n",
       "      <th>message</th>\n",
       "    </tr>\n",
       "  </thead>\n",
       "  <tbody>\n",
       "    <tr>\n",
       "      <th>0</th>\n",
       "      <td>ham</td>\n",
       "      <td>Go until jurong point, crazy.. Available only ...</td>\n",
       "    </tr>\n",
       "    <tr>\n",
       "      <th>1</th>\n",
       "      <td>ham</td>\n",
       "      <td>Ok lar... Joking wif u oni...</td>\n",
       "    </tr>\n",
       "    <tr>\n",
       "      <th>2</th>\n",
       "      <td>spam</td>\n",
       "      <td>Free entry in 2 a wkly comp to win FA Cup fina...</td>\n",
       "    </tr>\n",
       "    <tr>\n",
       "      <th>3</th>\n",
       "      <td>ham</td>\n",
       "      <td>U dun say so early hor... U c already then say...</td>\n",
       "    </tr>\n",
       "    <tr>\n",
       "      <th>4</th>\n",
       "      <td>ham</td>\n",
       "      <td>Nah I don't think he goes to usf, he lives aro...</td>\n",
       "    </tr>\n",
       "  </tbody>\n",
       "</table>\n",
       "</div>"
      ],
      "text/plain": [
       "  label                                            message\n",
       "0   ham  Go until jurong point, crazy.. Available only ...\n",
       "1   ham                      Ok lar... Joking wif u oni...\n",
       "2  spam  Free entry in 2 a wkly comp to win FA Cup fina...\n",
       "3   ham  U dun say so early hor... U c already then say...\n",
       "4   ham  Nah I don't think he goes to usf, he lives aro..."
      ]
     },
     "execution_count": 14,
     "metadata": {},
     "output_type": "execute_result"
    }
   ],
   "source": [
    "msgs.head()"
   ]
  },
  {
   "cell_type": "code",
   "execution_count": 15,
   "id": "f10de751",
   "metadata": {},
   "outputs": [],
   "source": [
    "#Data cleaning and pre-processing\n",
    "\n",
    "import re\n",
    "import nltk\n"
   ]
  },
  {
   "cell_type": "code",
   "execution_count": 16,
   "id": "6ab55ecf",
   "metadata": {},
   "outputs": [],
   "source": [
    "from nltk.corpus import stopwords\n",
    "from nltk.stem.porter import PorterStemmer\n",
    "ps = PorterStemmer()\n",
    "corpus = []"
   ]
  },
  {
   "cell_type": "code",
   "execution_count": 17,
   "id": "c330103c",
   "metadata": {},
   "outputs": [],
   "source": [
    "from nltk.stem import WordNetLemmatizer\n",
    "wnlem = WordNetLemmatizer()"
   ]
  },
  {
   "cell_type": "code",
   "execution_count": 18,
   "id": "0dfa9729",
   "metadata": {},
   "outputs": [],
   "source": [
    "# for every message present in msgs object- replace all special characters with space using regex. \n",
    "# -convert uppercase to lowercase\n",
    "# -tokenize using tokenize / split\n",
    "# -lemmatize / stem if the word is not present in stopwords(english)\n",
    "\n",
    "\n",
    "for i in range(0,len(msgs)):\n",
    "    b = re.sub('\\W', ' ', msgs['message'][i])\n",
    "    b = b.lower()\n",
    "    b = b.split()\n",
    "    \n",
    "    b = [ps.stem(word) for word in b if not word in set(stopwords.words('english'))]\n",
    "    b = \" \".join(b)\n",
    "    \n",
    "    corpus.append(b)"
   ]
  },
  {
   "cell_type": "code",
   "execution_count": 19,
   "id": "f5f24546",
   "metadata": {},
   "outputs": [],
   "source": [
    "#creating the bag of words model\n",
    "\n",
    "from sklearn.feature_extraction.text import CountVectorizer\n",
    "cv = CountVectorizer(max_features = 5000) #max_features = 2500\n",
    "X = cv.fit_transform(corpus).toarray()\n",
    "\n",
    "#if we do not specify max features, we get huge amount of features which might be redundant.\n",
    "# by not specifying max_features, we have gotten 7252 words \n",
    "# by selecting max features as 5000, we get top 5000 frequent words"
   ]
  },
  {
   "cell_type": "code",
   "execution_count": 20,
   "id": "bcdffa63",
   "metadata": {},
   "outputs": [
    {
     "data": {
      "text/plain": [
       "(5572, 5000)"
      ]
     },
     "execution_count": 20,
     "metadata": {},
     "output_type": "execute_result"
    }
   ],
   "source": [
    "X.shape"
   ]
  },
  {
   "cell_type": "code",
   "execution_count": 26,
   "id": "cd8ed420",
   "metadata": {},
   "outputs": [],
   "source": [
    "#encoding target variable \"label\"\n",
    "\n",
    "y = pd.get_dummies(msgs['label'])\n",
    "y = y.iloc[:,1].values # --1 \n",
    "#get dummies creates two columns for each category with values 0s and 1s indicating 1 as present and 0 as absent. \n",
    "# so, you can drop one column(from --1) and keep only one column of the two "
   ]
  },
  {
   "cell_type": "code",
   "execution_count": 29,
   "id": "911b48bb",
   "metadata": {},
   "outputs": [],
   "source": [
    "# train-test split\n",
    "\n",
    "from sklearn.model_selection import train_test_split\n",
    "X_train, X_test, y_train, y_test = train_test_split(X, y, test_size=0.20, random_state= 0)"
   ]
  },
  {
   "cell_type": "code",
   "execution_count": 30,
   "id": "2db029ca",
   "metadata": {},
   "outputs": [],
   "source": [
    "#training model using NB classifier\n",
    "\n",
    "from sklearn.naive_bayes import MultinomialNB\n",
    "spam_detect_model = MultinomialNB().fit(X_train, y_train)"
   ]
  },
  {
   "cell_type": "code",
   "execution_count": 36,
   "id": "71dba208",
   "metadata": {},
   "outputs": [],
   "source": [
    "y_pred = spam_detect_model.predict(X_test)"
   ]
  },
  {
   "cell_type": "code",
   "execution_count": 37,
   "id": "15203cb7",
   "metadata": {},
   "outputs": [],
   "source": [
    "from sklearn.metrics import confusion_matrix"
   ]
  },
  {
   "cell_type": "code",
   "execution_count": 38,
   "id": "31629132",
   "metadata": {},
   "outputs": [],
   "source": [
    "confusion_m = confusion_matrix(y_test, y_pred)"
   ]
  },
  {
   "cell_type": "code",
   "execution_count": 39,
   "id": "615e9d17",
   "metadata": {},
   "outputs": [
    {
     "data": {
      "text/plain": [
       "array([[948,   7],\n",
       "       [  8, 152]], dtype=int64)"
      ]
     },
     "execution_count": 39,
     "metadata": {},
     "output_type": "execute_result"
    }
   ],
   "source": [
    "confusion_m"
   ]
  },
  {
   "cell_type": "code",
   "execution_count": 40,
   "id": "4922bf1e",
   "metadata": {},
   "outputs": [],
   "source": [
    "from sklearn.metrics import accuracy_score"
   ]
  },
  {
   "cell_type": "code",
   "execution_count": 41,
   "id": "e9083f11",
   "metadata": {},
   "outputs": [],
   "source": [
    "accuracy = accuracy_score(y_test, y_pred)"
   ]
  },
  {
   "cell_type": "code",
   "execution_count": 42,
   "id": "d5176659",
   "metadata": {},
   "outputs": [
    {
     "data": {
      "text/plain": [
       "0.9865470852017937"
      ]
     },
     "execution_count": 42,
     "metadata": {},
     "output_type": "execute_result"
    }
   ],
   "source": [
    "accuracy"
   ]
  }
 ],
 "metadata": {
  "kernelspec": {
   "display_name": "Python 3 (ipykernel)",
   "language": "python",
   "name": "python3"
  },
  "language_info": {
   "codemirror_mode": {
    "name": "ipython",
    "version": 3
   },
   "file_extension": ".py",
   "mimetype": "text/x-python",
   "name": "python",
   "nbconvert_exporter": "python",
   "pygments_lexer": "ipython3",
   "version": "3.10.6"
  }
 },
 "nbformat": 4,
 "nbformat_minor": 5
}
